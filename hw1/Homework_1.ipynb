{
 "cells": [
  {
   "cell_type": "code",
   "execution_count": 20,
   "source": [
    "import pandas as pd\n",
    "import os\n",
    "import numpy as np\n"
   ],
   "outputs": [],
   "metadata": {}
  },
  {
   "cell_type": "markdown",
   "source": [
    "# Question 2"
   ],
   "metadata": {}
  },
  {
   "cell_type": "code",
   "execution_count": 25,
   "source": [
    "#read data \n",
    "training = np.genfromtxt('HW1_data/1/train_1_5.csv',dtype= None,delimiter=',')\n",
    "test = np.genfromtxt('HW1_data/1/test_1_5.csv',dtype= None,delimiter=',')\n",
    "\n",
    "#get the training data out\n",
    "print(training)"
   ],
   "outputs": [
    {
     "output_type": "stream",
     "name": "stdout",
     "text": [
      "[[-0.72576667  0.02276306  1.        ]\n",
      " [-0.81127309  0.03552441  1.        ]\n",
      " [-0.7637943   0.01847137  1.        ]\n",
      " ...\n",
      " [-0.63857584  0.0603133   1.        ]\n",
      " [-0.50418127  0.4572745  -1.        ]\n",
      " [-0.58254497  0.26045176 -1.        ]]\n"
     ]
    }
   ],
   "metadata": {}
  },
  {
   "cell_type": "code",
   "execution_count": 22,
   "source": [
    "#initialise the parameters for perceptron\n",
    "#theta is a vector\n",
    "#offset is scalar\n",
    "def initial_params():\n",
    "    offset = 0.0\n",
    "    theta = np.array([0.0,0.0])\n",
    "    return offset, theta"
   ],
   "outputs": [],
   "metadata": {}
  },
  {
   "cell_type": "code",
   "execution_count": 26,
   "source": [
    "print(training[:, :-1])"
   ],
   "outputs": [
    {
     "output_type": "stream",
     "name": "stdout",
     "text": [
      "[[-0.72576667  0.02276306]\n",
      " [-0.81127309  0.03552441]\n",
      " [-0.7637943   0.01847137]\n",
      " ...\n",
      " [-0.63857584  0.0603133 ]\n",
      " [-0.50418127  0.4572745 ]\n",
      " [-0.58254497  0.26045176]]\n"
     ]
    }
   ],
   "metadata": {}
  },
  {
   "cell_type": "code",
   "execution_count": 27,
   "source": [
    "print(training[:,-1])"
   ],
   "outputs": [
    {
     "output_type": "stream",
     "name": "stdout",
     "text": [
      "[ 1.  1.  1.  1. -1. -1.  1.  1.  1. -1. -1.  1. -1.  1. -1. -1. -1. -1.\n",
      "  1.  1.  1.  1.  1.  1. -1.  1.  1.  1.  1. -1. -1.  1.  1. -1.  1.  1.\n",
      "  1. -1.  1. -1.  1.  1.  1. -1.  1.  1.  1.  1.  1. -1. -1. -1.  1. -1.\n",
      "  1. -1.  1.  1. -1. -1. -1.  1.  1. -1. -1.  1.  1.  1.  1. -1.  1.  1.\n",
      "  1. -1.  1. -1.  1. -1.  1.  1.  1.  1. -1.  1.  1.  1.  1. -1.  1. -1.\n",
      " -1. -1.  1.  1. -1.  1.  1.  1.  1.  1.  1. -1.  1.  1.  1.  1. -1.  1.\n",
      "  1. -1. -1. -1.  1. -1.  1.  1. -1.  1. -1.  1. -1. -1.  1.  1.  1.  1.\n",
      " -1. -1. -1.  1. -1.  1.  1. -1.  1.  1.  1. -1.  1.  1. -1. -1.  1.  1.\n",
      " -1. -1. -1.  1. -1.  1. -1.  1.  1.  1.  1. -1.  1. -1.  1.  1.  1.  1.\n",
      "  1.  1.  1. -1. -1.  1.  1.  1. -1.  1.  1. -1. -1.  1. -1.  1.  1.  1.\n",
      "  1. -1. -1.  1.  1. -1.  1.  1.  1.  1. -1.  1.  1.  1. -1.  1. -1.  1.\n",
      "  1.  1. -1.  1. -1.  1.  1.  1.  1. -1. -1. -1. -1. -1.  1.  1. -1. -1.\n",
      "  1. -1. -1. -1.  1.  1.  1. -1. -1.  1.  1. -1.  1.  1. -1. -1. -1. -1.\n",
      "  1. -1.  1.  1.  1. -1.  1.  1.  1.  1. -1.  1.  1. -1. -1.  1.  1. -1.\n",
      "  1. -1. -1.  1.  1.  1. -1. -1.  1.  1.  1.  1.  1. -1.  1. -1.  1.  1.\n",
      "  1.  1. -1.  1. -1.  1. -1. -1. -1.  1.  1.  1.  1.  1.  1.  1.  1. -1.\n",
      "  1.  1.  1. -1.  1. -1. -1. -1.  1.  1. -1. -1.  1.  1.  1. -1. -1.  1.\n",
      "  1. -1.  1.  1. -1.  1. -1. -1.  1.  1.  1. -1.  1.  1. -1. -1. -1.  1.\n",
      "  1. -1.  1. -1.  1.  1.  1.  1. -1.  1.  1.  1.  1. -1.  1.  1.  1.  1.\n",
      "  1. -1.  1.  1. -1.  1. -1. -1.  1.  1.  1. -1. -1.  1. -1. -1.  1. -1.\n",
      " -1. -1.  1. -1. -1. -1.  1. -1.  1. -1. -1.  1.  1. -1.  1.  1.  1. -1.\n",
      " -1. -1. -1.  1.  1. -1.  1.  1.  1. -1. -1. -1.  1.  1.  1. -1.  1. -1.\n",
      "  1.  1.  1. -1.  1.  1.  1. -1. -1.  1.  1.  1.  1. -1. -1. -1. -1.  1.\n",
      "  1. -1. -1.  1.  1. -1.  1.  1. -1.  1. -1. -1.  1.  1. -1.  1.  1.  1.\n",
      "  1.  1. -1. -1.  1. -1.  1. -1. -1.  1.  1. -1.  1.  1. -1. -1. -1. -1.\n",
      "  1. -1. -1.  1.  1. -1.  1.  1.  1. -1.  1.  1.  1.  1. -1.  1.  1.  1.\n",
      "  1.  1. -1. -1.  1.  1.  1. -1. -1.  1. -1.  1. -1.  1. -1. -1.  1. -1.\n",
      " -1.  1. -1. -1. -1.  1. -1. -1.  1. -1.  1.  1.  1. -1.  1.  1.  1. -1.\n",
      " -1.  1.  1.  1.  1.  1.  1. -1. -1. -1.  1. -1.  1.  1. -1.  1.  1. -1.\n",
      " -1. -1.  1.  1.  1.  1. -1.  1. -1.  1.  1.  1. -1.  1.  1.  1.  1.  1.\n",
      "  1.  1.  1.  1.  1.  1.  1. -1. -1.  1.  1.  1. -1.  1.  1. -1.  1.  1.\n",
      " -1. -1.  1. -1. -1. -1.  1.  1.  1.  1. -1. -1. -1. -1.  1.  1.  1.  1.\n",
      "  1.  1.  1. -1.  1. -1.  1.  1.  1. -1.  1.  1.  1. -1.  1.  1.  1.  1.\n",
      " -1.  1.  1. -1.  1.  1. -1.  1.  1.  1. -1.  1.  1. -1. -1.  1. -1.  1.\n",
      " -1.  1.  1.  1.  1.  1.  1. -1. -1.  1.  1.  1.  1.  1.  1. -1. -1.  1.\n",
      " -1.  1.  1. -1.  1.  1.  1.  1.  1.  1. -1.  1.  1. -1.  1.  1.  1. -1.\n",
      " -1.  1.  1.  1.  1.  1.  1. -1.  1.  1.  1. -1.  1.  1.  1.  1. -1. -1.\n",
      "  1.  1.  1. -1.  1.  1.  1.  1.  1. -1.  1.  1.  1.  1.  1.  1.  1. -1.\n",
      "  1.  1.  1.  1.  1.  1.  1. -1. -1.  1. -1. -1.  1. -1.  1.  1.  1.  1.\n",
      "  1.  1.  1.  1. -1. -1.  1. -1.  1. -1.  1.  1.  1.  1.  1.  1.  1.  1.\n",
      "  1. -1.  1. -1.  1. -1.  1.  1. -1.  1. -1.  1.  1. -1.  1.  1.  1.  1.\n",
      "  1. -1. -1.  1.  1.  1.  1.  1. -1. -1. -1. -1.  1.  1.  1. -1.  1.  1.\n",
      " -1. -1.  1.  1.  1. -1. -1.  1.  1.  1. -1. -1. -1. -1. -1. -1.  1. -1.\n",
      " -1. -1.  1.  1.  1.  1.  1. -1.  1. -1.  1.  1.  1. -1.  1.  1.  1.  1.\n",
      "  1. -1. -1.  1.  1.  1. -1. -1. -1. -1.  1.  1.  1.  1. -1. -1.  1.  1.\n",
      " -1.  1. -1.  1. -1.  1.  1.  1. -1. -1. -1.  1.  1.  1.  1.  1. -1.  1.\n",
      "  1. -1.  1.  1.  1. -1. -1.  1. -1.  1.  1.  1.  1.  1.  1.  1.  1.  1.\n",
      "  1. -1.  1.  1. -1.  1. -1.  1. -1.  1.  1.  1.  1.  1. -1.  1.  1.  1.\n",
      "  1. -1.  1. -1.  1.  1.  1.  1. -1.  1. -1. -1.  1. -1.  1.  1.  1.  1.\n",
      "  1.  1.  1. -1.  1.  1. -1. -1.  1.  1.  1.  1.  1. -1. -1.  1.  1.  1.\n",
      "  1.  1. -1. -1.  1.  1.  1. -1.  1. -1.  1.  1.  1. -1.  1. -1. -1.  1.\n",
      "  1.  1.  1.  1. -1.  1.  1.  1.  1.  1. -1.  1. -1.  1. -1. -1.  1.  1.\n",
      "  1. -1.  1.  1.  1.  1.  1.  1. -1.  1.  1. -1.  1.  1. -1.  1.  1.  1.\n",
      " -1.  1. -1. -1. -1.  1.  1. -1.  1.  1.  1.  1. -1.  1. -1.  1. -1. -1.\n",
      "  1.  1.  1.  1. -1. -1.  1.  1.  1. -1. -1.]\n"
     ]
    }
   ],
   "metadata": {}
  },
  {
   "cell_type": "code",
   "execution_count": 28,
   "source": [
    "def training(offset, epochs, theta, training_data):\n",
    "    #iterate with each epoch\n",
    "    for i in range(epochs):\n",
    "        #get the whole data out from the training data\n",
    "        training_examples_x = training_data[:,:-1]\n",
    "        training_examples_y = training_data[:,-1]\n",
    "        #each training example\n",
    "        example = 1\n",
    "        for x,y  in zip(training_examples_x, training_examples_y):\n",
    "            #check for non realisation\n",
    "            if (y * ((np.dot(theta, x))+offset))<=0:\n",
    "                #update\n",
    "                theta = theta + np.dot(y,x)\n",
    "                offset = offset + y\n",
    "            print(f\"Example {example} has the current theta value of {theta} and the current offset value of {offset}\")\n",
    "            example += 1 \n",
    "    return theta, offset\n"
   ],
   "outputs": [],
   "metadata": {}
  },
  {
   "cell_type": "code",
   "execution_count": null,
   "source": [
    "#put test set on the test data\n",
    "def test(test_data, theta, offset):\n",
    "    test_examples_x = test_data[:,:-1]\n",
    "    test_examples_y = test_data[:,-1]\n",
    "    test_example_id = 1\n",
    "    for x_test, y_test in zip(test_examples_x,test_examples_y):\n",
    "        #y(θx+θo) > 0\n",
    "        if (y_test * (theta))\n",
    "    "
   ],
   "outputs": [],
   "metadata": {}
  },
  {
   "cell_type": "markdown",
   "source": [
    "# 2(a)"
   ],
   "metadata": {}
  }
 ],
 "metadata": {
  "kernelspec": {
   "name": "python3",
   "display_name": "Python 3.8.8 64-bit ('base': conda)"
  },
  "language_info": {
   "codemirror_mode": {
    "name": "ipython",
    "version": 3
   },
   "file_extension": ".py",
   "mimetype": "text/x-python",
   "name": "python",
   "nbconvert_exporter": "python",
   "pygments_lexer": "ipython3",
   "version": "3.8.8"
  },
  "interpreter": {
   "hash": "dca0ade3e726a953b501b15e8e990130d2b7799f14cfd9f4271676035ebe5511"
  }
 },
 "nbformat": 4,
 "nbformat_minor": 5
}