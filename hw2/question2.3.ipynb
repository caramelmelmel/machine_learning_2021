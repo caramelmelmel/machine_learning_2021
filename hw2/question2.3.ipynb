{
 "cells": [
  {
   "cell_type": "code",
   "execution_count": 2,
   "metadata": {},
   "outputs": [
    {
     "name": "stdout",
     "output_type": "stream",
     "text": [
      "Requirement already satisfied: libsvm-official in /opt/anaconda3/lib/python3.8/site-packages (3.25.0)\n",
      "Requirement already satisfied: scipy in /opt/anaconda3/lib/python3.8/site-packages (from libsvm-official) (1.6.2)\n",
      "Requirement already satisfied: numpy<1.23.0,>=1.16.5 in /opt/anaconda3/lib/python3.8/site-packages (from scipy->libsvm-official) (1.20.1)\n"
     ]
    }
   ],
   "source": [
    "!pip install -U libsvm-official"
   ]
  },
  {
   "cell_type": "code",
   "execution_count": 3,
   "metadata": {},
   "outputs": [],
   "source": [
    "from libsvm.svmutil import *\n"
   ]
  },
  {
   "cell_type": "code",
   "execution_count": 4,
   "metadata": {},
   "outputs": [],
   "source": [
    "#read in the libsvm format\n",
    "y_train, x_train = svm_read_problem('fishorrock/training.txt')\n",
    "\n",
    "y_test, x_test = svm_read_problem('fishorrock/test.txt')"
   ]
  },
  {
   "cell_type": "markdown",
   "metadata": {},
   "source": [
    "## Linear Kernel"
   ]
  },
  {
   "cell_type": "code",
   "execution_count": 5,
   "metadata": {},
   "outputs": [
    {
     "name": "stdout",
     "output_type": "stream",
     "text": [
      "Accuracy = 79.3651% (50/63) (classification)\n"
     ]
    }
   ],
   "source": [
    "# linear kernel\n",
    "linear_train = svm_train(y_train,x_train,'-t 0')\n",
    "\n",
    "##test\n",
    "p_label, p_accuracy, p_val = svm_predict(y_test,x_test,linear_train)\n"
   ]
  },
  {
   "cell_type": "markdown",
   "metadata": {},
   "source": [
    "## Polynomial"
   ]
  },
  {
   "cell_type": "code",
   "execution_count": 6,
   "metadata": {},
   "outputs": [
    {
     "name": "stdout",
     "output_type": "stream",
     "text": [
      "Accuracy = 55.5556% (35/63) (classification)\n"
     ]
    }
   ],
   "source": [
    "polynomial_train = svm_train(y_train,x_train,'-t 1')\n",
    "\n",
    "p_label, p_accuracy, p_val = svm_predict(y_test,x_test,polynomial_train)"
   ]
  },
  {
   "cell_type": "markdown",
   "metadata": {},
   "source": [
    "## Radial Basis Function"
   ]
  },
  {
   "cell_type": "code",
   "execution_count": 7,
   "metadata": {},
   "outputs": [
    {
     "name": "stdout",
     "output_type": "stream",
     "text": [
      "Accuracy = 87.3016% (55/63) (classification)\n"
     ]
    }
   ],
   "source": [
    "## radial basis\n",
    "radial_basis_train = svm_train(y_train,x_train,'-t 2')\n",
    "\n",
    "p_label, p_accuracy, p_val = svm_predict(y_test,x_test,radial_basis_train)\n"
   ]
  },
  {
   "cell_type": "markdown",
   "metadata": {},
   "source": [
    "## Sigmoid"
   ]
  },
  {
   "cell_type": "code",
   "execution_count": 8,
   "metadata": {},
   "outputs": [
    {
     "name": "stdout",
     "output_type": "stream",
     "text": [
      "Accuracy = 82.5397% (52/63) (classification)\n"
     ]
    }
   ],
   "source": [
    "sigmoid_train = svm_train(y_train,x_train,'-t 3')\n",
    "\n",
    "p_label, p_accuracy, p_val = svm_predict(y_test,x_test,sigmoid_train)"
   ]
  },
  {
   "cell_type": "markdown",
   "metadata": {},
   "source": [
    "# Answer:"
   ]
  },
  {
   "cell_type": "markdown",
   "metadata": {},
   "source": [
    "Based on the accuracy reported above, I would use the Radial Basis Function as it has the highest test accuracy above. This would mean that the data does not overfit on the training set. Overfitting would mean that the test accuracy performance on a different dataset would not be high"
   ]
  },
  {
   "cell_type": "code",
   "execution_count": 9,
   "metadata": {},
   "outputs": [
    {
     "name": "stdout",
     "output_type": "stream",
     "text": [
      "Help on function svm_train in module libsvm.svmutil:\n",
      "\n",
      "svm_train(arg1, arg2=None, arg3=None)\n",
      "    svm_train(y, x [, options]) -> model | ACC | MSE\n",
      "    \n",
      "    y: a list/tuple/ndarray of l true labels (type must be int/double).\n",
      "    \n",
      "    x: 1. a list/tuple of l training instances. Feature vector of\n",
      "          each training instance is a list/tuple or dictionary.\n",
      "    \n",
      "       2. an l * n numpy ndarray or scipy spmatrix (n: number of features).\n",
      "    \n",
      "    svm_train(prob [, options]) -> model | ACC | MSE\n",
      "    svm_train(prob, param) -> model | ACC| MSE\n",
      "    \n",
      "    Train an SVM model from data (y, x) or an svm_problem prob using\n",
      "    'options' or an svm_parameter param.\n",
      "    If '-v' is specified in 'options' (i.e., cross validation)\n",
      "    either accuracy (ACC) or mean-squared error (MSE) is returned.\n",
      "    options:\n",
      "        -s svm_type : set type of SVM (default 0)\n",
      "            0 -- C-SVC        (multi-class classification)\n",
      "            1 -- nu-SVC        (multi-class classification)\n",
      "            2 -- one-class SVM\n",
      "            3 -- epsilon-SVR    (regression)\n",
      "            4 -- nu-SVR        (regression)\n",
      "        -t kernel_type : set type of kernel function (default 2)\n",
      "            0 -- linear: u'*v\n",
      "            1 -- polynomial: (gamma*u'*v + coef0)^degree\n",
      "            2 -- radial basis function: exp(-gamma*|u-v|^2)\n",
      "            3 -- sigmoid: tanh(gamma*u'*v + coef0)\n",
      "            4 -- precomputed kernel (kernel values in training_set_file)\n",
      "        -d degree : set degree in kernel function (default 3)\n",
      "        -g gamma : set gamma in kernel function (default 1/num_features)\n",
      "        -r coef0 : set coef0 in kernel function (default 0)\n",
      "        -c cost : set the parameter C of C-SVC, epsilon-SVR, and nu-SVR (default 1)\n",
      "        -n nu : set the parameter nu of nu-SVC, one-class SVM, and nu-SVR (default 0.5)\n",
      "        -p epsilon : set the epsilon in loss function of epsilon-SVR (default 0.1)\n",
      "        -m cachesize : set cache memory size in MB (default 100)\n",
      "        -e epsilon : set tolerance of termination criterion (default 0.001)\n",
      "        -h shrinking : whether to use the shrinking heuristics, 0 or 1 (default 1)\n",
      "        -b probability_estimates : whether to train a SVC or SVR model for probability estimates, 0 or 1 (default 0)\n",
      "        -wi weight : set the parameter C of class i to weight*C, for C-SVC (default 1)\n",
      "        -v n: n-fold cross validation mode\n",
      "        -q : quiet mode (no outputs)\n",
      "\n"
     ]
    }
   ],
   "source": [
    "help(svm_train)"
   ]
  }
 ],
 "metadata": {
  "interpreter": {
   "hash": "40d3a090f54c6569ab1632332b64b2c03c39dcf918b08424e98f38b5ae0af88f"
  },
  "kernelspec": {
   "display_name": "Python 3.8.8 64-bit ('base': conda)",
   "name": "python3"
  },
  "language_info": {
   "codemirror_mode": {
    "name": "ipython",
    "version": 3
   },
   "file_extension": ".py",
   "mimetype": "text/x-python",
   "name": "python",
   "nbconvert_exporter": "python",
   "pygments_lexer": "ipython3",
   "version": "3.8.8"
  },
  "orig_nbformat": 4
 },
 "nbformat": 4,
 "nbformat_minor": 2
}
